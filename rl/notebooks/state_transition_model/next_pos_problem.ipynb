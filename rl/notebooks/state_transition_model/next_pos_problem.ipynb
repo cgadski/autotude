{
 "cells": [
  {
   "cell_type": "code",
   "execution_count": 1,
   "id": "4e33b30c",
   "metadata": {},
   "outputs": [],
   "source": [
    "import torch as t\n",
    "from torch.nn.functional import normalize\n",
    "from sklearn.linear_model import LinearRegression\n",
    "import numpy as np\n",
    "from sklearn.metrics import mean_squared_error\n",
    "from sklearn.linear_model import SGDRegressor\n",
    "from sklearn.multioutput import MultiOutputRegressor\n",
    "import torch.utils.data as D\n",
    "from torch.utils.data import TensorDataset"
   ]
  },
  {
   "cell_type": "markdown",
   "id": "2edf3c13",
   "metadata": {},
   "source": [
    "## Dataset preparations"
   ]
  },
  {
   "cell_type": "code",
   "execution_count": 29,
   "id": "33f35cac",
   "metadata": {},
   "outputs": [
    {
     "name": "stdout",
     "output_type": "stream",
     "text": [
      "tensor([[-0.0015, -0.0015, -0.0005, -0.0005,  0.0005,  0.0015,  0.0015,  0.0020,\n",
      "          0.0020],\n",
      "        [ 0.0054,  0.0054,  0.0054,  0.0059,  0.0049,  0.0049,  0.0049,  0.0039,\n",
      "          0.0044]])\n",
      "torch.Size([2325306, 2, 8])\n"
     ]
    },
    {
     "data": {
      "text/plain": [
       "tensor(110.3125)"
      ]
     },
     "execution_count": 29,
     "metadata": {},
     "output_type": "execute_result"
    }
   ],
   "source": [
    "def make_windowed_data():\n",
    "    dataset = t.load(\"data/ffa_channelpark.pt\", weights_only=False)\n",
    "    observations, rewards = dataset.tensors\n",
    "    positions = observations[:,:2].float()\n",
    "    \n",
    "    windowed = positions.unfold(dimension=0, size=10, step=1)  # (b, 2, 10)\n",
    "    windowed_rewards = rewards.unfold(dimension=0,size=10, step=1) # (b, 10)\n",
    "    good_windows = windowed[windowed_rewards.pow(2).sum(-1) == 0]\n",
    "\n",
    "    diffs = good_windows.diff(dim=-1)\n",
    "    print(diffs[1000])\n",
    "    x = diffs[:, :, :-1]\n",
    "    y = diffs[:, :, -1]\n",
    "    print(x.shape)\n",
    "    return x.flatten(start_dim=1, end_dim=-1), y\n",
    "    \n",
    "x, y = make_windowed_data()\n",
    "t.linalg.cond(x)\n"
   ]
  },
  {
   "cell_type": "markdown",
   "id": "3c37fcfa-2aed-4e5f-ac44-8b0155f48b37",
   "metadata": {},
   "source": [
    "## "
   ]
  },
  {
   "cell_type": "code",
   "execution_count": 54,
   "id": "8d6a5769-b43c-43e8-8521-4c6ce98c0d6e",
   "metadata": {},
   "outputs": [
    {
     "data": {
      "text/plain": [
       "tensor([[ 5.6192e-01,  5.8614e-01,  6.5280e-01,  6.7508e-01],\n",
       "        [ 7.0330e-01,  2.2941e-02,  6.7790e-01,  9.7699e-01],\n",
       "        [ 9.6463e-01, -4.8165e-01, -4.4465e-01, -3.2640e-01],\n",
       "        [-2.1096e-01, -1.2787e-01,  0.0000e+00,  8.7471e-02],\n",
       "        [ 1.8319e-01,  1.2862e-01, -1.0383e-01, -1.0730e-01],\n",
       "        [-1.1107e-01, -1.1771e-01, -1.1923e-01,  8.7987e-02],\n",
       "        [-3.6090e-03,  7.4538e-04,  1.3973e-03,  6.6444e-01],\n",
       "        [ 6.6874e-01,  6.7452e-01,  6.9707e-01,  6.8906e-01],\n",
       "        [-9.9586e-01,  7.2992e-01, -1.0923e-01, -2.3009e-01]])"
      ]
     },
     "execution_count": 54,
     "metadata": {},
     "output_type": "execute_result"
    }
   ],
   "source": [
    "new_x[1000].reshape(9, -1)"
   ]
  },
  {
   "cell_type": "markdown",
   "id": "77f54b4f",
   "metadata": {},
   "source": [
    "## Constant model"
   ]
  },
  {
   "cell_type": "code",
   "execution_count": 26,
   "id": "87d9920a",
   "metadata": {},
   "outputs": [
    {
     "name": "stdout",
     "output_type": "stream",
     "text": [
      "Constant model error:\t 7.70117951956225e-06\n",
      "Baseline error:\t 2.0381450300102904e-07\n"
     ]
    }
   ],
   "source": [
    "mse  = mean_squared_error(0 * x.reshape(-1, 2, 8)[:, :, -1], y)\n",
    "print(\"Constant model error:\\t\",mse)\n",
    "mse  = mean_squared_error(x.reshape(-1, 2, 8)[:, :, -1], y)\n",
    "print(\"Baseline error:\\t\",mse)"
   ]
  },
  {
   "cell_type": "code",
   "execution_count": 66,
   "id": "99ef8ca7-6bca-4681-a59c-677a3f4b35c1",
   "metadata": {},
   "outputs": [
    {
     "data": {
      "image/png": "[encoded data removed]",
      "text/plain": [
       "<Figure size 640x480 with 1 Axes>"
      ]
     },
     "metadata": {},
     "output_type": "display_data"
    }
   ],
   "source": [
    "import matplotlib.pyplot as plt\n",
    "\n",
    "def show_traj(x):\n",
    "    plt.scatter(x[:, 0], x[:, 1])\n",
    "\n",
    "    \n",
    "show_traj(positions[1000:1100, :2])"
   ]
  },
  {
   "cell_type": "code",
   "execution_count": 70,
   "id": "84f67f55-7f2a-479a-8a84-83d2d9ffd607",
   "metadata": {},
   "outputs": [
    {
     "name": "stdout",
     "output_type": "stream",
     "text": [
      "Mean squared error for inertial:\t 0.0010457706983428555\n",
      "Mean squared error for constant:\t 0.000529948268385962\n"
     ]
    }
   ],
   "source": [
    "def inertial_baseline(x):\n",
    "    return 2 * x[1:-1] - x[:-2]\n",
    "\n",
    "mse  = mean_squared_error(positions[2:, :2], inertial_baseline(positions[:, :2]))\n",
    "print(\"Mean squared error for inertial:\\t\",mse)\n",
    "mse  = mean_squared_error(positions[1:, :2], positions[:-1, :2])\n",
    "print(\"Mean squared error for constant:\\t\",mse)"
   ]
  },
  {
   "cell_type": "markdown",
   "id": "3b372ce2",
   "metadata": {},
   "source": [
    "##  Linear Regression"
   ]
  },
  {
   "cell_type": "code",
   "execution_count": 32,
   "id": "1bca07cb",
   "metadata": {},
   "outputs": [
    {
     "ename": "TypeError",
     "evalue": "RegressorMixin.score() missing 2 required positional arguments: 'X' and 'y'",
     "output_type": "error",
     "traceback": [
      "\u001b[31m---------------------------------------------------------------------------\u001b[39m",
      "\u001b[31mTypeError\u001b[39m                                 Traceback (most recent call last)",
      "\u001b[36mCell\u001b[39m\u001b[36m \u001b[39m\u001b[32mIn[32]\u001b[39m\u001b[32m, line 2\u001b[39m\n\u001b[32m      1\u001b[39m reg = LinearRegression().fit(x, y)\n\u001b[32m----> \u001b[39m\u001b[32m2\u001b[39m \u001b[43mreg\u001b[49m\u001b[43m.\u001b[49m\u001b[43mscore\u001b[49m\u001b[43m(\u001b[49m\u001b[43m)\u001b[49m\n\u001b[32m      3\u001b[39m y_pred = reg.predict(x)\n\u001b[32m      4\u001b[39m mse  = mean_squared_error(y, y_pred)\n",
      "\u001b[31mTypeError\u001b[39m: RegressorMixin.score() missing 2 required positional arguments: 'X' and 'y'"
     ]
    }
   ],
   "source": [
    "reg = LinearRegression().fit(x, y)\n",
    "y_pred = reg.predict(x)\n",
    "mse  = mean_squared_error(y, y_pred)\n",
    "print(\"Mean squared error:\\t\",mse)"
   ]
  },
  {
   "cell_type": "markdown",
   "id": "81faac9c",
   "metadata": {},
   "source": [
    "## Multioutput Regression using SGD"
   ]
  },
  {
   "cell_type": "code",
   "execution_count": 50,
   "id": "a4164888",
   "metadata": {},
   "outputs": [
    {
     "name": "stdout",
     "output_type": "stream",
     "text": [
      "Mean squared error:\t 0.0003713804898648525\n"
     ]
    }
   ],
   "source": [
    "model = MultiOutputRegressor(SGDRegressor(loss=\"squared_error\",tol=1e-3)).fit(X, y)\n",
    "y_pred = model.predict(X)\n",
    "mse  = mean_squared_error(y, y_pred)\n",
    "print(\"Mean squared error:\\t\",mse)"
   ]
  },
  {
   "cell_type": "markdown",
   "id": "624e5724",
   "metadata": {},
   "source": [
    "### Again but with Max normalization"
   ]
  },
  {
   "cell_type": "code",
   "execution_count": 51,
   "id": "2ce63153",
   "metadata": {},
   "outputs": [
    {
     "name": "stdout",
     "output_type": "stream",
     "text": [
      "Mean squared error:\t 0.0217948220161012\n"
     ]
    }
   ],
   "source": [
    "model = MultiOutputRegressor(SGDRegressor(loss=\"squared_error\",tol=1e-3)).fit(X_scaled, y)\n",
    "y_pred = model.predict(X_scaled)\n",
    "mse  = mean_squared_error(y, y_pred)\n",
    "print(\"Mean squared error:\\t\",mse)\n",
    "\n"
   ]
  },
  {
   "cell_type": "markdown",
   "id": "54f94ae9",
   "metadata": {},
   "source": [
    "## Torch's linear layer"
   ]
  },
  {
   "cell_type": "code",
   "execution_count": 39,
   "id": "eb886b34",
   "metadata": {},
   "outputs": [
    {
     "name": "stdout",
     "output_type": "stream",
     "text": [
      "Train loss 0: \t0.07252107560634613\n",
      "Train loss 50: \t0.001315273460932076\n",
      "Train loss 100: \t0.00080321473069489\n",
      "Train loss 150: \t0.0006105336360633373\n",
      "Train loss 200: \t0.0005115606472827494\n",
      "Train loss 250: \t0.00045425299322232604\n",
      "Train loss 300: \t0.00041914309258572757\n",
      "Train loss 350: \t0.00039691064739599824\n"
     ]
    }
   ],
   "source": [
    "from tqdm import tqdm\n",
    "\n",
    "def run_sgd(X, y, lr=1e-3, epochs=1001):\n",
    "    model = t.nn.Linear(X.shape[1], 4).to(t.float32)\n",
    "    opt = t.optim.SGD(lr=lr, params=model.parameters())\n",
    "    loss_fn = t.nn.MSELoss()\n",
    "    \n",
    "    for i in range(epochs):\n",
    "         train_loss = loss_fn(y, model(X))\n",
    "         opt.zero_grad()\n",
    "         train_loss.backward()\n",
    "         opt.step()\n",
    "         if i % 50 == 0:\n",
    "             print(f'Train loss {i}: \\t{train_loss}')\n",
    "        \n",
    "run_sgd(new_x, new_y, lr=1, epochs=400)"
   ]
  },
  {
   "cell_type": "markdown",
   "id": "261eab65",
   "metadata": {},
   "source": [
    "### Again but with Max normalization"
   ]
  },
  {
   "cell_type": "code",
   "execution_count": 53,
   "id": "9e1b4fcc",
   "metadata": {},
   "outputs": [
    {
     "name": "stdout",
     "output_type": "stream",
     "text": [
      "Train loss for iteration 0:\t0.5132244229316711\n",
      "Train loss for iteration 200:\t0.4241345524787903\n",
      "Train loss for iteration 400:\t0.3511976897716522\n",
      "Train loss for iteration 600:\t0.2914852201938629\n",
      "Train loss for iteration 800:\t0.24259929358959198\n",
      "Train loss for iteration 1000:\t0.20257702469825745\n"
     ]
    }
   ],
   "source": [
    "model = t.nn.Linear(40, 4).to(t.float32)\n",
    "opt = t.optim.SGD(lr=1e-3, params=model.parameters())\n",
    "loss_fn = t.nn.MSELoss()\n",
    "for i in range(1001):\n",
    "     train_loss = loss_fn(y, model(X_scaled))\n",
    "     if i%200==0:\n",
    "          print(f'Train loss for iteration {i}:\\t{train_loss}')\n",
    "     opt.zero_grad()\n",
    "     train_loss.backward()\n",
    "     opt.step()"
   ]
  },
  {
   "cell_type": "markdown",
   "id": "e2ff2e39",
   "metadata": {},
   "source": [
    "### Again but using batches "
   ]
  },
  {
   "cell_type": "code",
   "execution_count": 48,
   "id": "fea33cdc",
   "metadata": {},
   "outputs": [],
   "source": [
    "def run_sgd_batched(X, y, lr, batch=1024, epochs=500):\n",
    "    dataset = TensorDataset(X, y)\n",
    "    train_loader = D.DataLoader(dataset, batch_size=batch, shuffle=False)\n",
    "    model = t.nn.Linear(X.shape[1], 4).to(t.float32)\n",
    "    opt = t.optim.SGD(lr=lr, params=model.parameters())\n",
    "    loss_fn = t.nn.MSELoss()\n",
    "    for j in range(epochs):\n",
    "        print(\"starting epoch\")\n",
    "        for i, (b_x, b_y) in enumerate(train_loader):\n",
    "          train_loss = loss_fn(b_y, model(b_x))\n",
    "          opt.zero_grad()\n",
    "          train_loss.backward()\n",
    "          opt.step()\n",
    "        print(f'Train loss for epoch {j}:\\t{train_loss}')"
   ]
  },
  {
   "cell_type": "code",
   "execution_count": 49,
   "id": "7ba97b70",
   "metadata": {},
   "outputs": [
    {
     "name": "stdout",
     "output_type": "stream",
     "text": [
      "starting epoch\n",
      "Train loss for epoch 0:\t0.000379081757273525\n",
      "starting epoch\n",
      "Train loss for epoch 1:\t0.0003736683283932507\n",
      "starting epoch\n",
      "Train loss for epoch 2:\t0.0003718721563927829\n",
      "starting epoch\n",
      "Train loss for epoch 3:\t0.00037098114262335\n",
      "starting epoch\n",
      "Train loss for epoch 4:\t0.000370435300283134\n",
      "starting epoch\n",
      "Train loss for epoch 5:\t0.0003700553497765213\n",
      "starting epoch\n"
     ]
    },
    {
     "ename": "KeyboardInterrupt",
     "evalue": "",
     "output_type": "error",
     "traceback": [
      "\u001b[31m---------------------------------------------------------------------------\u001b[39m",
      "\u001b[31mKeyboardInterrupt\u001b[39m                         Traceback (most recent call last)",
      "\u001b[36mCell\u001b[39m\u001b[36m \u001b[39m\u001b[32mIn[49]\u001b[39m\u001b[32m, line 1\u001b[39m\n\u001b[32m----> \u001b[39m\u001b[32m1\u001b[39m \u001b[43mrun_sgd_batched\u001b[49m\u001b[43m(\u001b[49m\u001b[43mnew_x\u001b[49m\u001b[43m,\u001b[49m\u001b[43m \u001b[49m\u001b[43mnew_y\u001b[49m\u001b[43m,\u001b[49m\u001b[43m \u001b[49m\u001b[32;43m0.5\u001b[39;49m\u001b[43m)\u001b[49m\n",
      "\u001b[36mCell\u001b[39m\u001b[36m \u001b[39m\u001b[32mIn[48]\u001b[39m\u001b[32m, line 9\u001b[39m, in \u001b[36mrun_sgd_batched\u001b[39m\u001b[34m(X, y, lr, batch, epochs)\u001b[39m\n\u001b[32m      7\u001b[39m \u001b[38;5;28;01mfor\u001b[39;00m j \u001b[38;5;129;01min\u001b[39;00m \u001b[38;5;28mrange\u001b[39m(epochs):\n\u001b[32m      8\u001b[39m     \u001b[38;5;28mprint\u001b[39m(\u001b[33m\"\u001b[39m\u001b[33mstarting epoch\u001b[39m\u001b[33m\"\u001b[39m)\n\u001b[32m----> \u001b[39m\u001b[32m9\u001b[39m \u001b[43m    \u001b[49m\u001b[38;5;28;43;01mfor\u001b[39;49;00m\u001b[43m \u001b[49m\u001b[43mi\u001b[49m\u001b[43m,\u001b[49m\u001b[43m \u001b[49m\u001b[43m(\u001b[49m\u001b[43mb_x\u001b[49m\u001b[43m,\u001b[49m\u001b[43m \u001b[49m\u001b[43mb_y\u001b[49m\u001b[43m)\u001b[49m\u001b[43m \u001b[49m\u001b[38;5;129;43;01min\u001b[39;49;00m\u001b[43m \u001b[49m\u001b[38;5;28;43menumerate\u001b[39;49m\u001b[43m(\u001b[49m\u001b[43mtrain_loader\u001b[49m\u001b[43m)\u001b[49m\u001b[43m:\u001b[49m\n\u001b[32m     10\u001b[39m \u001b[43m      \u001b[49m\u001b[43mtrain_loss\u001b[49m\u001b[43m \u001b[49m\u001b[43m=\u001b[49m\u001b[43m \u001b[49m\u001b[43mloss_fn\u001b[49m\u001b[43m(\u001b[49m\u001b[43mb_y\u001b[49m\u001b[43m,\u001b[49m\u001b[43m \u001b[49m\u001b[43mmodel\u001b[49m\u001b[43m(\u001b[49m\u001b[43mb_x\u001b[49m\u001b[43m)\u001b[49m\u001b[43m)\u001b[49m\n\u001b[32m     11\u001b[39m \u001b[43m      \u001b[49m\u001b[43mopt\u001b[49m\u001b[43m.\u001b[49m\u001b[43mzero_grad\u001b[49m\u001b[43m(\u001b[49m\u001b[43m)\u001b[49m\n",
      "\u001b[36mFile \u001b[39m\u001b[32m~/autotude/rl/notebooks/.venv/lib/python3.12/site-packages/torch/utils/data/dataloader.py:631\u001b[39m, in \u001b[36m_BaseDataLoaderIter.__next__\u001b[39m\u001b[34m(self)\u001b[39m\n\u001b[32m    628\u001b[39m \u001b[38;5;28;01mif\u001b[39;00m \u001b[38;5;28mself\u001b[39m._sampler_iter \u001b[38;5;129;01mis\u001b[39;00m \u001b[38;5;28;01mNone\u001b[39;00m:\n\u001b[32m    629\u001b[39m     \u001b[38;5;66;03m# TODO(https://github.com/pytorch/pytorch/issues/76750)\u001b[39;00m\n\u001b[32m    630\u001b[39m     \u001b[38;5;28mself\u001b[39m._reset()  \u001b[38;5;66;03m# type: ignore[call-arg]\u001b[39;00m\n\u001b[32m--> \u001b[39m\u001b[32m631\u001b[39m data = \u001b[38;5;28;43mself\u001b[39;49m\u001b[43m.\u001b[49m\u001b[43m_next_data\u001b[49m\u001b[43m(\u001b[49m\u001b[43m)\u001b[49m\n\u001b[32m    632\u001b[39m \u001b[38;5;28mself\u001b[39m._num_yielded += \u001b[32m1\u001b[39m\n\u001b[32m    633\u001b[39m \u001b[38;5;28;01mif\u001b[39;00m \u001b[38;5;28mself\u001b[39m._dataset_kind == _DatasetKind.Iterable \u001b[38;5;129;01mand\u001b[39;00m \\\n\u001b[32m    634\u001b[39m         \u001b[38;5;28mself\u001b[39m._IterableDataset_len_called \u001b[38;5;129;01mis\u001b[39;00m \u001b[38;5;129;01mnot\u001b[39;00m \u001b[38;5;28;01mNone\u001b[39;00m \u001b[38;5;129;01mand\u001b[39;00m \\\n\u001b[32m    635\u001b[39m         \u001b[38;5;28mself\u001b[39m._num_yielded > \u001b[38;5;28mself\u001b[39m._IterableDataset_len_called:\n",
      "\u001b[36mFile \u001b[39m\u001b[32m~/autotude/rl/notebooks/.venv/lib/python3.12/site-packages/torch/utils/data/dataloader.py:675\u001b[39m, in \u001b[36m_SingleProcessDataLoaderIter._next_data\u001b[39m\u001b[34m(self)\u001b[39m\n\u001b[32m    673\u001b[39m \u001b[38;5;28;01mdef\u001b[39;00m\u001b[38;5;250m \u001b[39m\u001b[34m_next_data\u001b[39m(\u001b[38;5;28mself\u001b[39m):\n\u001b[32m    674\u001b[39m     index = \u001b[38;5;28mself\u001b[39m._next_index()  \u001b[38;5;66;03m# may raise StopIteration\u001b[39;00m\n\u001b[32m--> \u001b[39m\u001b[32m675\u001b[39m     data = \u001b[38;5;28;43mself\u001b[39;49m\u001b[43m.\u001b[49m\u001b[43m_dataset_fetcher\u001b[49m\u001b[43m.\u001b[49m\u001b[43mfetch\u001b[49m\u001b[43m(\u001b[49m\u001b[43mindex\u001b[49m\u001b[43m)\u001b[49m  \u001b[38;5;66;03m# may raise StopIteration\u001b[39;00m\n\u001b[32m    676\u001b[39m     \u001b[38;5;28;01mif\u001b[39;00m \u001b[38;5;28mself\u001b[39m._pin_memory:\n\u001b[32m    677\u001b[39m         data = _utils.pin_memory.pin_memory(data, \u001b[38;5;28mself\u001b[39m._pin_memory_device)\n",
      "\u001b[36mFile \u001b[39m\u001b[32m~/autotude/rl/notebooks/.venv/lib/python3.12/site-packages/torch/utils/data/_utils/fetch.py:54\u001b[39m, in \u001b[36m_MapDatasetFetcher.fetch\u001b[39m\u001b[34m(self, possibly_batched_index)\u001b[39m\n\u001b[32m     52\u001b[39m \u001b[38;5;28;01melse\u001b[39;00m:\n\u001b[32m     53\u001b[39m     data = \u001b[38;5;28mself\u001b[39m.dataset[possibly_batched_index]\n\u001b[32m---> \u001b[39m\u001b[32m54\u001b[39m \u001b[38;5;28;01mreturn\u001b[39;00m \u001b[38;5;28;43mself\u001b[39;49m\u001b[43m.\u001b[49m\u001b[43mcollate_fn\u001b[49m\u001b[43m(\u001b[49m\u001b[43mdata\u001b[49m\u001b[43m)\u001b[49m\n",
      "\u001b[36mFile \u001b[39m\u001b[32m~/autotude/rl/notebooks/.venv/lib/python3.12/site-packages/torch/utils/data/_utils/collate.py:277\u001b[39m, in \u001b[36mdefault_collate\u001b[39m\u001b[34m(batch)\u001b[39m\n\u001b[32m    216\u001b[39m \u001b[38;5;28;01mdef\u001b[39;00m\u001b[38;5;250m \u001b[39m\u001b[34mdefault_collate\u001b[39m(batch):\n\u001b[32m    217\u001b[39m \u001b[38;5;250m    \u001b[39m\u001b[33mr\u001b[39m\u001b[33;03m\"\"\"\u001b[39;00m\n\u001b[32m    218\u001b[39m \u001b[33;03m    Take in a batch of data and put the elements within the batch into a tensor with an additional outer dimension - batch size.\u001b[39;00m\n\u001b[32m    219\u001b[39m \n\u001b[32m   (...)\u001b[39m\u001b[32m    275\u001b[39m \u001b[33;03m        >>> default_collate(batch)  # Handle `CustomType` automatically\u001b[39;00m\n\u001b[32m    276\u001b[39m \u001b[33;03m    \"\"\"\u001b[39;00m\n\u001b[32m--> \u001b[39m\u001b[32m277\u001b[39m     \u001b[38;5;28;01mreturn\u001b[39;00m \u001b[43mcollate\u001b[49m\u001b[43m(\u001b[49m\u001b[43mbatch\u001b[49m\u001b[43m,\u001b[49m\u001b[43m \u001b[49m\u001b[43mcollate_fn_map\u001b[49m\u001b[43m=\u001b[49m\u001b[43mdefault_collate_fn_map\u001b[49m\u001b[43m)\u001b[49m\n",
      "\u001b[36mFile \u001b[39m\u001b[32m~/autotude/rl/notebooks/.venv/lib/python3.12/site-packages/torch/utils/data/_utils/collate.py:144\u001b[39m, in \u001b[36mcollate\u001b[39m\u001b[34m(batch, collate_fn_map)\u001b[39m\n\u001b[32m    141\u001b[39m transposed = \u001b[38;5;28mlist\u001b[39m(\u001b[38;5;28mzip\u001b[39m(*batch))  \u001b[38;5;66;03m# It may be accessed twice, so we use a list.\u001b[39;00m\n\u001b[32m    143\u001b[39m \u001b[38;5;28;01mif\u001b[39;00m \u001b[38;5;28misinstance\u001b[39m(elem, \u001b[38;5;28mtuple\u001b[39m):\n\u001b[32m--> \u001b[39m\u001b[32m144\u001b[39m     \u001b[38;5;28;01mreturn\u001b[39;00m [\u001b[43mcollate\u001b[49m\u001b[43m(\u001b[49m\u001b[43msamples\u001b[49m\u001b[43m,\u001b[49m\u001b[43m \u001b[49m\u001b[43mcollate_fn_map\u001b[49m\u001b[43m=\u001b[49m\u001b[43mcollate_fn_map\u001b[49m\u001b[43m)\u001b[49m \u001b[38;5;28;01mfor\u001b[39;00m samples \u001b[38;5;129;01min\u001b[39;00m transposed]  \u001b[38;5;66;03m# Backwards compatibility.\u001b[39;00m\n\u001b[32m    145\u001b[39m \u001b[38;5;28;01melse\u001b[39;00m:\n\u001b[32m    146\u001b[39m     \u001b[38;5;28;01mtry\u001b[39;00m:\n",
      "\u001b[36mFile \u001b[39m\u001b[32m~/autotude/rl/notebooks/.venv/lib/python3.12/site-packages/torch/utils/data/_utils/collate.py:121\u001b[39m, in \u001b[36mcollate\u001b[39m\u001b[34m(batch, collate_fn_map)\u001b[39m\n\u001b[32m    119\u001b[39m \u001b[38;5;28;01mif\u001b[39;00m collate_fn_map \u001b[38;5;129;01mis\u001b[39;00m \u001b[38;5;129;01mnot\u001b[39;00m \u001b[38;5;28;01mNone\u001b[39;00m:\n\u001b[32m    120\u001b[39m     \u001b[38;5;28;01mif\u001b[39;00m elem_type \u001b[38;5;129;01min\u001b[39;00m collate_fn_map:\n\u001b[32m--> \u001b[39m\u001b[32m121\u001b[39m         \u001b[38;5;28;01mreturn\u001b[39;00m \u001b[43mcollate_fn_map\u001b[49m\u001b[43m[\u001b[49m\u001b[43melem_type\u001b[49m\u001b[43m]\u001b[49m\u001b[43m(\u001b[49m\u001b[43mbatch\u001b[49m\u001b[43m,\u001b[49m\u001b[43m \u001b[49m\u001b[43mcollate_fn_map\u001b[49m\u001b[43m=\u001b[49m\u001b[43mcollate_fn_map\u001b[49m\u001b[43m)\u001b[49m\n\u001b[32m    123\u001b[39m     \u001b[38;5;28;01mfor\u001b[39;00m collate_type \u001b[38;5;129;01min\u001b[39;00m collate_fn_map:\n\u001b[32m    124\u001b[39m         \u001b[38;5;28;01mif\u001b[39;00m \u001b[38;5;28misinstance\u001b[39m(elem, collate_type):\n",
      "\u001b[36mFile \u001b[39m\u001b[32m~/autotude/rl/notebooks/.venv/lib/python3.12/site-packages/torch/utils/data/_utils/collate.py:174\u001b[39m, in \u001b[36mcollate_tensor_fn\u001b[39m\u001b[34m(batch, collate_fn_map)\u001b[39m\n\u001b[32m    172\u001b[39m     storage = elem._typed_storage()._new_shared(numel, device=elem.device)\n\u001b[32m    173\u001b[39m     out = elem.new(storage).resize_(\u001b[38;5;28mlen\u001b[39m(batch), *\u001b[38;5;28mlist\u001b[39m(elem.size()))\n\u001b[32m--> \u001b[39m\u001b[32m174\u001b[39m \u001b[38;5;28;01mreturn\u001b[39;00m \u001b[43mtorch\u001b[49m\u001b[43m.\u001b[49m\u001b[43mstack\u001b[49m\u001b[43m(\u001b[49m\u001b[43mbatch\u001b[49m\u001b[43m,\u001b[49m\u001b[43m \u001b[49m\u001b[32;43m0\u001b[39;49m\u001b[43m,\u001b[49m\u001b[43m \u001b[49m\u001b[43mout\u001b[49m\u001b[43m=\u001b[49m\u001b[43mout\u001b[49m\u001b[43m)\u001b[49m\n",
      "\u001b[31mKeyboardInterrupt\u001b[39m: "
     ]
    }
   ],
   "source": [
    "run_sgd_batched(new_x, new_y, 0.5)"
   ]
  }
 ],
 "metadata": {
  "kernelspec": {
   "display_name": "Python 3 (ipykernel)",
   "language": "python",
   "name": "python3"
  },
  "language_info": {
   "codemirror_mode": {
    "name": "ipython",
    "version": 3
   },
   "file_extension": ".py",
   "mimetype": "text/x-python",
   "name": "python",
   "nbconvert_exporter": "python",
   "pygments_lexer": "ipython3",
   "version": "3.12.0"
  }
 },
 "nbformat": 4,
 "nbformat_minor": 5
}

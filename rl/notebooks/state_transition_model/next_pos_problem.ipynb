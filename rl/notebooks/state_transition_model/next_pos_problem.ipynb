{
 "cells": [
  {
   "cell_type": "code",
   "execution_count": 1,
   "id": "4e33b30c",
   "metadata": {},
   "outputs": [],
   "source": [
    "import torch as t\n",
    "from torch.nn.functional import normalize\n",
    "from sklearn.linear_model import LinearRegression\n",
    "import numpy as np\n",
    "from sklearn.metrics import mean_squared_error\n",
    "from sklearn.linear_model import SGDRegressor\n",
    "from sklearn.multioutput import MultiOutputRegressor\n",
    "import torch.utils.data as D\n",
    "from torch.utils.data import TensorDataset\n",
    "import matplotlib.pyplot as plt "
   ]
  },
  {
   "cell_type": "markdown",
   "id": "2edf3c13",
   "metadata": {},
   "source": [
    "## Dataset preparations"
   ]
  },
  {
   "cell_type": "code",
   "execution_count": 2,
   "id": "33f35cac",
   "metadata": {},
   "outputs": [
    {
     "name": "stdout",
     "output_type": "stream",
     "text": [
      "Shape of good_windows:\ttorch.Size([2322620, 2, 10])\n",
      "Shape of x:\ttorch.Size([2322620, 2, 8])\n",
      "Shape of y:\ttorch.Size([2322620, 2])\n",
      "Shape of x_angles:\ttorch.Size([2322620, 2])\n",
      "Shape of y_angles:\ttorch.Size([2322620, 2])\n",
      "Shape of x_commands:\ttorch.Size([2322620, 2])\n",
      "Shape of X:\ttorch.Size([2322620, 16])\n"
     ]
    },
    {
     "data": {
      "text/plain": [
       "tensor(112.8253)"
      ]
     },
     "execution_count": 2,
     "metadata": {},
     "output_type": "execute_result"
    }
   ],
   "source": [
    "screen_size = 1000\n",
    "def make_windowed_data():\n",
    "    dataset = t.load(\"data/ffa_channelpark.pt\", weights_only=False)\n",
    "    observations, rewards = dataset.tensors\n",
    "    positions = observations[:,:2].float()\n",
    "    angles = observations[:,2].float()\n",
    "    commands = observations[:,3:].float()\n",
    "    angles *=  10  * t.pi / 180\n",
    "    angles = t.stack([t.cos(angles), t.sin(angles)], dim=1)\n",
    "    positions*=screen_size\n",
    "\n",
    "\n",
    "    \n",
    "    windowed = positions.unfold(dimension=0, size=10, step=1)  # (b, 2, 10)\n",
    "    windowed_rewards = rewards.unfold(dimension=0,size=10, step=1) # (b, 10)\n",
    "    windowed_angles = angles.unfold(dimension=0,size=10, step=1) # (b, 10)\n",
    "    windowed_commands = commands.unfold(dimension=0,size=10, step=1) # (b,2, 10)\n",
    "    mask = windowed_rewards.pow(2).sum(-1) == 0\n",
    "    good_windows = windowed[mask]\n",
    "    good_angles = windowed_angles[mask]\n",
    "    x_angles = good_angles[:,:,-2]\n",
    "    y_angles = good_angles[:,:,-1]\n",
    "    x_commands = windowed_commands[mask][:,:,-2]\n",
    "\n",
    "    diffs = good_windows.diff(dim=-1)\n",
    "    x = diffs[:, :, :-1]\n",
    "    y = diffs[:, :, -1]\n",
    "\n",
    "    print(f'Shape of good_windows:\\t{good_windows.shape}')\n",
    "    print(f'Shape of x:\\t{x.shape}')\n",
    "    print(f'Shape of y:\\t{y.shape}')\n",
    "    print(f'Shape of x_angles:\\t{x_angles.shape}')\n",
    "    print(f'Shape of y_angles:\\t{y_angles.shape}')\n",
    "    print(f'Shape of x_commands:\\t{x_commands.shape}')\n",
    "    return good_windows,x, y,x_angles,y_angles, x_commands\n",
    "    \n",
    "w,x, y,x_angles,y_angles,x_commands = make_windowed_data()\n",
    "X=x.flatten(start_dim=1, end_dim=-1)\n",
    "print(f'Shape of X:\\t{X.shape}')\n",
    "t.linalg.cond(X)\n"
   ]
  },
  {
   "cell_type": "markdown",
   "id": "3c37fcfa-2aed-4e5f-ac44-8b0155f48b37",
   "metadata": {},
   "source": [
    "## "
   ]
  },
  {
   "cell_type": "markdown",
   "id": "77f54b4f",
   "metadata": {},
   "source": [
    "## Constant model"
   ]
  },
  {
   "cell_type": "code",
   "execution_count": 3,
   "id": "87d9920a",
   "metadata": {},
   "outputs": [
    {
     "name": "stdout",
     "output_type": "stream",
     "text": [
      "Constant model error:\t 7.744957480923398\n",
      "Baseline error:\t 0.2046320093630694\n"
     ]
    }
   ],
   "source": [
    "mse  = mean_squared_error(0 * X.reshape(-1, 2, 8)[:, :, -1], y)\n",
    "print(\"Constant model error:\\t\",mse)\n",
    "mse  = mean_squared_error(X.reshape(-1, 2, 8)[:, :, -1], y)\n",
    "print(\"Baseline error:\\t\",mse)"
   ]
  },
  {
   "cell_type": "markdown",
   "id": "3b372ce2",
   "metadata": {},
   "source": [
    "##  Linear Regression"
   ]
  },
  {
   "cell_type": "code",
   "execution_count": 9,
   "id": "1bca07cb",
   "metadata": {},
   "outputs": [
    {
     "name": "stdout",
     "output_type": "stream",
     "text": [
      "Mean squared error:\t 3.4720349311828613\n"
     ]
    }
   ],
   "source": [
    "reg = LinearRegression().fit(X, y)\n",
    "y_pred = reg.predict(X)\n",
    "mse  = mean_squared_error(y, y_pred)\n",
    "print(\"Mean squared error:\\t\",mse)"
   ]
  },
  {
   "cell_type": "markdown",
   "id": "54f94ae9",
   "metadata": {},
   "source": [
    "## Torch's linear layer"
   ]
  },
  {
   "cell_type": "code",
   "execution_count": 5,
   "id": "fea33cdc",
   "metadata": {},
   "outputs": [],
   "source": [
    "def run_sgd_batched(X, y, lr, batch=1024, epochs=3):\n",
    "    dataset = TensorDataset(X, y)\n",
    "    train_loader = D.DataLoader(dataset, batch_size=batch, shuffle=False)\n",
    "    model = t.nn.Linear(X.shape[1], y.shape[1]).to(t.float32)\n",
    "    opt = t.optim.SGD(lr=lr, params=model.parameters())\n",
    "    loss_fn = t.nn.MSELoss()\n",
    "    for j in range(epochs):\n",
    "        for i, (b_x, b_y) in enumerate(train_loader):\n",
    "          train_loss = loss_fn(b_y, model(b_x))\n",
    "          opt.zero_grad()\n",
    "          train_loss.backward()\n",
    "          opt.step()\n",
    "        print(f'Train loss for epoch {j}:\\t{train_loss}')\n",
    "    return model\n",
    "      "
   ]
  },
  {
   "cell_type": "code",
   "execution_count": 8,
   "id": "7ba97b70",
   "metadata": {},
   "outputs": [
    {
     "name": "stdout",
     "output_type": "stream",
     "text": [
      "Train loss for epoch 0:\t0.12936235964298248\n",
      "Train loss for epoch 1:\t0.11680002510547638\n",
      "Train loss for epoch 2:\t0.11530094593763351\n"
     ]
    }
   ],
   "source": [
    "model =run_sgd_batched(X, y, 2e-3)"
   ]
  },
  {
   "cell_type": "markdown",
   "id": "4807e151",
   "metadata": {},
   "source": [
    "## Trajectories\n",
    "### Linear regresssion model"
   ]
  },
  {
   "cell_type": "code",
   "execution_count": 10,
   "id": "071c7016",
   "metadata": {},
   "outputs": [
    {
     "data": {
      "image/png": "[encoded data removed]",
      "text/plain": [
       "<Figure size 640x480 with 1 Axes>"
      ]
     },
     "metadata": {},
     "output_type": "display_data"
    }
   ],
   "source": [
    "y_pred = reg.predict(X)\n",
    "diff_pred = t.tensor(y_pred) + w[:,:,-2]\n",
    "steps = 100\n",
    "start = 1000\n",
    "end = start+steps\n",
    "#plt.xlim((0, screen_size)) \n",
    "#plt.ylim((0, screen_size)) \n",
    "plt.axis('equal')\n",
    "plt.scatter(w[start:end,0,-2],w[start:end,1,-2],s=1)\n",
    "plt.scatter(diff_pred[start:end,0],diff_pred[start:end,1],s=1)\n",
    "plt.show()\n"
   ]
  },
  {
   "cell_type": "code",
   "execution_count": 11,
   "id": "428401b9",
   "metadata": {},
   "outputs": [
    {
     "data": {
      "image/png": "[encoded data removed]",
      "text/plain": [
       "<Figure size 640x480 with 1 Axes>"
      ]
     },
     "metadata": {},
     "output_type": "display_data"
    }
   ],
   "source": [
    "\n",
    "pos_pred = t.zeros((steps,2))\n",
    "diff_pred = t.zeros((steps,16))\n",
    "\n",
    "pos_pred[0] = w[start,:,-2]\n",
    "diff_pred[0]=X[start]\n",
    "for i in range(steps-1):\n",
    "     y_pred = reg.predict(diff_pred[i].reshape(1, -1))\n",
    "     y_pred = t.tensor(y_pred[0])\n",
    "     diff_pred[i+1] = t.concat(\n",
    "          (diff_pred[i][2:16], y_pred)\n",
    "     )  \n",
    "     pos_pred[i+1] = pos_pred[i] + y_pred\n",
    "     if i % 10 ==0:\n",
    "         pos_pred[i+1] = w[start+i+1,:,-2] \n",
    "         diff_pred[i+1] = X[start+i+1]\n",
    "\n",
    "#plt.xlim((0, screen_size)) \n",
    "#plt.ylim((0, screen_size)) \n",
    "plt.axis('equal')\n",
    "plt.scatter(w[start:end,0,-2],w[start:end,1,-2],s=1)\n",
    "plt.scatter(pos_pred[:,0],pos_pred[:,1],s=1)\n",
    "plt.show()"
   ]
  },
  {
   "cell_type": "markdown",
   "id": "0f79c50d",
   "metadata": {},
   "source": [
    "### Torch model"
   ]
  },
  {
   "cell_type": "code",
   "execution_count": 10,
   "id": "e3431006",
   "metadata": {},
   "outputs": [
    {
     "data": {
      "image/png": "[encoded data removed]",
      "text/plain": [
       "<Figure size 640x480 with 1 Axes>"
      ]
     },
     "metadata": {},
     "output_type": "display_data"
    }
   ],
   "source": [
    "y_pred = model(X)\n",
    "diff_pred = y_pred.detach() + w[:,:,-2]\n",
    "#plt.xlim((0, screen_size)) \n",
    "#plt.ylim((0, screen_size)) \n",
    "plt.axis('equal')\n",
    "plt.scatter(w[start:end,0,-2],w[start:end,1,-2],s=1)\n",
    "plt.scatter(diff_pred[start:end,0],diff_pred[start:end,1],s=1)\n",
    "plt.show()"
   ]
  },
  {
   "cell_type": "markdown",
   "id": "e4ed4d3d",
   "metadata": {},
   "source": [
    "## Try to include angles and commands to generate trajectories"
   ]
  },
  {
   "cell_type": "code",
   "execution_count": 11,
   "id": "46372270",
   "metadata": {},
   "outputs": [
    {
     "name": "stdout",
     "output_type": "stream",
     "text": [
      "torch.Size([2322620, 20])\n",
      "torch.Size([2322620, 4])\n"
     ]
    }
   ],
   "source": [
    "new_X = t.concat((X,x_angles,x_commands),dim=1)\n",
    "new_y = t.concat((y,y_angles),dim=1)\n",
    "print(new_X.shape)\n",
    "print(new_y.shape)"
   ]
  },
  {
   "cell_type": "code",
   "execution_count": 12,
   "id": "ffc27f20",
   "metadata": {},
   "outputs": [
    {
     "name": "stdout",
     "output_type": "stream",
     "text": [
      "Mean squared error:\t 1.7365370988845825\n"
     ]
    }
   ],
   "source": [
    "\n",
    "reg = LinearRegression().fit(new_X, new_y)\n",
    "y_pred = reg.predict(new_X)\n",
    "mse  = mean_squared_error(new_y, y_pred)\n",
    "print(\"Mean squared error:\\t\",mse)"
   ]
  },
  {
   "cell_type": "code",
   "execution_count": 18,
   "id": "040bc0c3",
   "metadata": {},
   "outputs": [
    {
     "data": {
      "image/png": "[encoded data removed]",
      "text/plain": [
       "<Figure size 640x480 with 1 Axes>"
      ]
     },
     "metadata": {},
     "output_type": "display_data"
    }
   ],
   "source": [
    "\n",
    "steps = 100\n",
    "start = 1000\n",
    "end = start+steps\n",
    "\n",
    "pos_pred = t.zeros((steps,2))\n",
    "diff_pred = t.zeros((steps,20))\n",
    "\n",
    "pos_pred[0] = w[start,:,-2]\n",
    "diff_pred[0]=new_X[start]\n",
    "for i in range(steps-1):\n",
    "     y_pred = reg.predict(diff_pred[i].reshape(1, -1))\n",
    "     y_pred = t.tensor(y_pred[0])\n",
    "     diff_pred[i+1] = t.concat(\n",
    "          (diff_pred[i][2:16], y_pred, x_commands[start+1+i])\n",
    "     )  \n",
    "     pos_pred[i+1] = pos_pred[i] + y_pred[:2] \n",
    "     if i % 10 ==0:\n",
    "         pos_pred[i+1] = w[start+i+1,:,-2] \n",
    "         diff_pred[i+1] = new_X[start+i+1]\n",
    "\n",
    "#plt.xlim((0, screen_size)) \n",
    "#plt.ylim((0, screen_size)) \n",
    "plt.axis('equal')\n",
    "plt.scatter(w[start:end,0,-2],w[start:end,1,-2],s=1)\n",
    "plt.scatter(pos_pred[:,0],pos_pred[:,1],s=1)\n",
    "plt.show()"
   ]
  },
  {
   "cell_type": "code",
   "execution_count": 15,
   "id": "c51dfbfb",
   "metadata": {},
   "outputs": [
    {
     "name": "stdout",
     "output_type": "stream",
     "text": [
      "Train loss for epoch 0:\t0.07218308746814728\n",
      "Train loss for epoch 1:\t0.06202208623290062\n",
      "Train loss for epoch 2:\t0.05945154279470444\n",
      "Train loss for epoch 3:\t0.058209262788295746\n",
      "Train loss for epoch 4:\t0.05773770064115524\n",
      "Train loss for epoch 5:\t0.057512588798999786\n"
     ]
    }
   ],
   "source": [
    "model =run_sgd_batched(new_X, new_y, 5e-3,epochs=6)"
   ]
  },
  {
   "cell_type": "code",
   "execution_count": 17,
   "id": "2fb73aeb",
   "metadata": {},
   "outputs": [
    {
     "data": {
      "image/png": "[encoded data removed]",
      "text/plain": [
       "<Figure size 640x480 with 1 Axes>"
      ]
     },
     "metadata": {},
     "output_type": "display_data"
    }
   ],
   "source": [
    "\n",
    "pos_pred = t.zeros((steps,2))\n",
    "diff_pred = t.zeros((steps,20))\n",
    "\n",
    "pos_pred[0] = w[start,:,-2]\n",
    "diff_pred[0]=new_X[start]\n",
    "for i in range(steps-1):\n",
    "     y_pred = model(diff_pred[i])\n",
    "     diff_pred[i+1] = t.concat(\n",
    "          (diff_pred[i][2:16], y_pred, x_commands[start+1+i])\n",
    "     )  \n",
    "     pos_pred[i+1] = pos_pred[i] + y_pred[:2] \n",
    "     if i % 10 ==0:\n",
    "         pos_pred[i+1] = w[start+i+1,:,-2] \n",
    "         diff_pred[i+1] = new_X[start+i+1]\n",
    "pos_pred = pos_pred.detach()\n",
    "#plt.xlim((0, screen_size)) \n",
    "#plt.ylim((0, screen_size)) \n",
    "plt.axis('equal')\n",
    "plt.scatter(w[start:end,0,-2],w[start:end,1,-2],s=1)\n",
    "plt.scatter(pos_pred[:,0],pos_pred[:,1],s=1)\n",
    "plt.show()"
   ]
  },
  {
   "cell_type": "code",
   "execution_count": null,
   "id": "bfe24e94",
   "metadata": {},
   "outputs": [],
   "source": []
  },
  {
   "cell_type": "code",
   "execution_count": null,
   "id": "756b6753",
   "metadata": {},
   "outputs": [],
   "source": []
  }
 ],
 "metadata": {
  "kernelspec": {
   "display_name": "altitude_rl",
   "language": "python",
   "name": "myenv"
  },
  "language_info": {
   "codemirror_mode": {
    "name": "ipython",
    "version": 3
   },
   "file_extension": ".py",
   "mimetype": "text/x-python",
   "name": "python",
   "nbconvert_exporter": "python",
   "pygments_lexer": "ipython3",
   "version": "3.12.7"
  }
 },
 "nbformat": 4,
 "nbformat_minor": 5
}

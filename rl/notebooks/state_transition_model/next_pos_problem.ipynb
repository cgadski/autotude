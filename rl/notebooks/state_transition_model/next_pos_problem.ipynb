{
 "cells": [
  {
   "cell_type": "code",
   "execution_count": 11,
   "id": "4e33b30c",
   "metadata": {},
   "outputs": [],
   "source": [
    "import torch as t\n",
    "from sklearn.linear_model import LinearRegression\n",
    "import numpy as np\n",
    "from sklearn.metrics import mean_squared_error\n",
    "from sklearn.linear_model import SGDRegressor\n",
    "from sklearn.multioutput import MultiOutputRegressor\n",
    "from sklearn.preprocessing import StandardScaler"
   ]
  },
  {
   "cell_type": "code",
   "execution_count": null,
   "id": "33f35cac",
   "metadata": {},
   "outputs": [
    {
     "ename": "AttributeError",
     "evalue": "'numpy.ndarray' object has no attribute 'unfold'",
     "output_type": "error",
     "traceback": [
      "\u001b[31m---------------------------------------------------------------------------\u001b[39m",
      "\u001b[31mAttributeError\u001b[39m                            Traceback (most recent call last)",
      "\u001b[36mCell\u001b[39m\u001b[36m \u001b[39m\u001b[32mIn[12]\u001b[39m\u001b[32m, line 15\u001b[39m\n\u001b[32m     12\u001b[39m X = positions[:-\u001b[32m1\u001b[39m].unfold(dimension=\u001b[32m0\u001b[39m, size=\u001b[32m10\u001b[39m, step=\u001b[32m1\u001b[39m).flatten(start_dim=\u001b[32m1\u001b[39m,end_dim=\u001b[32m2\u001b[39m)\n\u001b[32m     13\u001b[39m y =  positions[\u001b[32m10\u001b[39m:]  \n\u001b[32m---> \u001b[39m\u001b[32m15\u001b[39m X_scaled = \u001b[43mpositions_scaled\u001b[49m\u001b[43m[\u001b[49m\u001b[43m:\u001b[49m\u001b[43m-\u001b[49m\u001b[32;43m1\u001b[39;49m\u001b[43m]\u001b[49m\u001b[43m.\u001b[49m\u001b[43munfold\u001b[49m(dimension=\u001b[32m0\u001b[39m, size=\u001b[32m10\u001b[39m, step=\u001b[32m1\u001b[39m).flatten(start_dim=\u001b[32m1\u001b[39m,end_dim=\u001b[32m2\u001b[39m)\n\u001b[32m     16\u001b[39m y_scaled =  positions_scaled[\u001b[32m10\u001b[39m:]  \n\u001b[32m     18\u001b[39m \u001b[38;5;28mprint\u001b[39m(\u001b[33m\"\u001b[39m\u001b[33mData shape:\u001b[39m\u001b[38;5;130;01m\\t\u001b[39;00m\u001b[33m\"\u001b[39m,positions.shape)\n",
      "\u001b[31mAttributeError\u001b[39m: 'numpy.ndarray' object has no attribute 'unfold'"
     ]
    }
   ],
   "source": [
    "dataset = t.load(\"data/ffa_channelpark.pt\", weights_only=False)\n",
    "observations,_ = dataset.tensors\n",
    "positions = observations[:,:3].float()\n",
    "\n",
    "angles =  10 * positions[:, 2] * t.pi / 180\n",
    "cosi = t.stack([t.cos(angles), t.sin(angles)], dim=1)\n",
    "positions = t.cat((positions[:, :2], cosi,positions[:,3:]), dim=1)\n",
    "\n",
    "scaler = StandardScaler()\n",
    "positions_scaled = t.tensor(scaler.fit_transform(positions))\n",
    "\n",
    "X = positions[:-1].unfold(dimension=0, size=10, step=1).flatten(start_dim=1,end_dim=2)\n",
    "y =  positions[10:]  \n",
    "\n",
    "X_scaled = positions_scaled[:-1].unfold(dimension=0, size=10, step=1).flatten(start_dim=1,end_dim=2)\n",
    "y_scaled =  positions_scaled[10:]  \n",
    "\n",
    "print(\"Data shape:\\t\",positions.shape)\n",
    "print(\"Input shape:\\t\",X.shape)\n",
    "print(\"Output shape:\\t\",y.shape)"
   ]
  },
  {
   "cell_type": "markdown",
   "id": "77f54b4f",
   "metadata": {},
   "source": [
    "## Constant model"
   ]
  },
  {
   "cell_type": "code",
   "execution_count": null,
   "id": "87d9920a",
   "metadata": {},
   "outputs": [
    {
     "name": "stdout",
     "output_type": "stream",
     "text": [
      "Mean squared error:\t 0.00035304092751520277\n"
     ]
    }
   ],
   "source": [
    "mse  = mean_squared_error(positions[1:], positions[:-1])\n",
    "print(\"Mean squared error:\\t\",mse)"
   ]
  },
  {
   "cell_type": "markdown",
   "id": "3b372ce2",
   "metadata": {},
   "source": [
    "##  Linear Regression"
   ]
  },
  {
   "cell_type": "code",
   "execution_count": null,
   "id": "1bca07cb",
   "metadata": {},
   "outputs": [
    {
     "name": "stdout",
     "output_type": "stream",
     "text": [
      "Mean squared error:\t 0.0017755660228431225\n"
     ]
    }
   ],
   "source": [
    "reg = LinearRegression().fit(X, y)\n",
    "y_pred = reg.predict(X)\n",
    "mse  = mean_squared_error(y, y_pred)\n",
    "print(\"Mean squared error:\\t\",mse)"
   ]
  },
  {
   "cell_type": "markdown",
   "id": "81faac9c",
   "metadata": {},
   "source": [
    "## Multioutput Regression using SGD"
   ]
  },
  {
   "cell_type": "code",
   "execution_count": null,
   "id": "a4164888",
   "metadata": {},
   "outputs": [
    {
     "name": "stdout",
     "output_type": "stream",
     "text": [
      "Mean squared error:\t 0.00037190102697359377\n"
     ]
    }
   ],
   "source": [
    "model = MultiOutputRegressor(SGDRegressor(loss=\"squared_error\",tol=1e-2)).fit(X, y)\n",
    "y_pred = model.predict(X)\n",
    "mse  = mean_squared_error(y, y_pred)\n",
    "print(\"Mean squared error:\\t\",mse)"
   ]
  },
  {
   "cell_type": "code",
   "execution_count": null,
   "id": "2ce63153",
   "metadata": {},
   "outputs": [
    {
     "ename": "NameError",
     "evalue": "name 'y_scaled' is not defined",
     "output_type": "error",
     "traceback": [
      "\u001b[31m---------------------------------------------------------------------------\u001b[39m",
      "\u001b[31mNameError\u001b[39m                                 Traceback (most recent call last)",
      "\u001b[36mCell\u001b[39m\u001b[36m \u001b[39m\u001b[32mIn[10]\u001b[39m\u001b[32m, line 1\u001b[39m\n\u001b[32m----> \u001b[39m\u001b[32m1\u001b[39m model = MultiOutputRegressor(SGDRegressor(loss=\u001b[33m\"\u001b[39m\u001b[33msquared_error\u001b[39m\u001b[33m\"\u001b[39m,tol=\u001b[32m1e-2\u001b[39m)).fit(X_scaled, \u001b[43my_scaled\u001b[49m)\n\u001b[32m      2\u001b[39m y_pred = model.predict(X_scaled)\n\u001b[32m      3\u001b[39m mse  = mean_squared_error(y_scaled, y_pred)\n",
      "\u001b[31mNameError\u001b[39m: name 'y_scaled' is not defined"
     ]
    }
   ],
   "source": [
    "model = MultiOutputRegressor(SGDRegressor(loss=\"squared_error\",tol=1e-2)).fit(X_scaled, y_scaled)\n",
    "y_pred = model.predict(X_scaled)\n",
    "mse  = mean_squared_error(y_scaled, y_pred)\n",
    "print(\"Mean squared error:\\t\",mse)\n",
    "\n"
   ]
  },
  {
   "cell_type": "code",
   "execution_count": null,
   "id": "eb886b34",
   "metadata": {},
   "outputs": [],
   "source": []
  }
 ],
 "metadata": {
  "kernelspec": {
   "display_name": "altitude_rl",
   "language": "python",
   "name": "myenv"
  },
  "language_info": {
   "codemirror_mode": {
    "name": "ipython",
    "version": 3
   },
   "file_extension": ".py",
   "mimetype": "text/x-python",
   "name": "python",
   "nbconvert_exporter": "python",
   "pygments_lexer": "ipython3",
   "version": "3.12.7"
  }
 },
 "nbformat": 4,
 "nbformat_minor": 5
}

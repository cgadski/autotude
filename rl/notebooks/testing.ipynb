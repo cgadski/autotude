{
 "cells": [
  {
   "cell_type": "code",
   "execution_count": 1,
   "metadata": {},
   "outputs": [],
   "source": [
    "from altitude_rl import networks\n",
    "import numpy as np\n",
    "import torch as t "
   ]
  },
  {
   "cell_type": "code",
   "execution_count": 5,
   "metadata": {},
   "outputs": [
    {
     "name": "stdout",
     "output_type": "stream",
     "text": [
      "torch.Size([5, 2])\n"
     ]
    },
    {
     "data": {
      "text/plain": [
       "torch.Size([10, 128])"
      ]
     },
     "execution_count": 5,
     "metadata": {},
     "output_type": "execute_result"
    }
   ],
   "source": [
    "velocity_encoder =  networks.VelocityEncoder()\n",
    "obs = t.linspace(1, 20, 20).reshape((10,2))+ t.zeros((10,2))\n",
    "velocity_encoder = velocity_encoder(obs)\n",
    "velocity_encoder.shape"
   ]
  },
  {
   "cell_type": "code",
   "execution_count": 114,
   "metadata": {},
   "outputs": [],
   "source": [
    "ob = t.tensor([1,2,3])\n",
    "possible_actions = t.tensor(\n",
    "            [\n",
    "                [0, 1],\n",
    "                [1, 0],\n",
    "                [0, 0],\n",
    "            ]\n",
    "        )"
   ]
  },
  {
   "cell_type": "code",
   "execution_count": 117,
   "metadata": {},
   "outputs": [
    {
     "data": {
      "text/plain": [
       "tensor([[[1, 2, 3, 0, 1]],\n",
       "\n",
       "        [[1, 2, 3, 1, 0]],\n",
       "\n",
       "        [[1, 2, 3, 0, 0]]])"
      ]
     },
     "execution_count": 117,
     "metadata": {},
     "output_type": "execute_result"
    }
   ],
   "source": [
    "n_actions = len(possible_actions)\n",
    "t.concat(\n",
    "            [\n",
    "                ob[None,:].repeat([n_actions, 1]),\n",
    "                possible_actions,\n",
    "            ],\n",
    "            dim=-1,\n",
    "        ).reshape(n_actions,1,5)"
   ]
  },
  {
   "cell_type": "code",
   "execution_count": null,
   "metadata": {},
   "outputs": [],
   "source": []
  }
 ],
 "metadata": {
  "kernelspec": {
   "display_name": "altitude_rl",
   "language": "python",
   "name": "myenv"
  },
  "language_info": {
   "codemirror_mode": {
    "name": "ipython",
    "version": 3
   },
   "file_extension": ".py",
   "mimetype": "text/x-python",
   "name": "python",
   "nbconvert_exporter": "python",
   "pygments_lexer": "ipython3",
   "version": "3.12.7"
  }
 },
 "nbformat": 4,
 "nbformat_minor": 2
}
